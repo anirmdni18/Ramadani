{
  "nbformat": 4,
  "nbformat_minor": 0,
  "metadata": {
    "colab": {
      "name": "Kripto_HelloWorld_JohnTravolta_Chapter_Ramadani.ipynb",
      "provenance": [],
      "collapsed_sections": [],
      "authorship_tag": "ABX9TyN/piH4mZ718+ZU5x3scL2b",
      "include_colab_link": true
    },
    "kernelspec": {
      "name": "python3",
      "display_name": "Python 3"
    }
  },
  "cells": [
    {
      "cell_type": "markdown",
      "metadata": {
        "id": "view-in-github",
        "colab_type": "text"
      },
      "source": [
        "<a href=\"https://colab.research.google.com/github/anirmdni18/Ramadani/blob/master/Kripto_HelloWorld_JohnTravolta_Chapter_Ramadani.ipynb\" target=\"_parent\"><img src=\"https://colab.research.google.com/assets/colab-badge.svg\" alt=\"Open In Colab\"/></a>"
      ]
    },
    {
      "cell_type": "markdown",
      "metadata": {
        "id": "zJkePAfgMfCc"
      },
      "source": [
        "Nama : Ramadani \n",
        "\n",
        "NIM  : 11170910000001\n",
        "\n",
        "Dosen : Rizal M.Kom.\n",
        "\n",
        "Mata Kuliah : Kriptografi"
      ]
    },
    {
      "cell_type": "code",
      "metadata": {
        "id": "6bq6V7JSg4mP",
        "cellView": "form",
        "outputId": "17aae2ee-97d5-4212-940e-d264059b6e88",
        "colab": {
          "base_uri": "https://localhost:8080/",
          "height": 85
        }
      },
      "source": [
        "#@title Hello World!\n",
        "\n",
        "Nama = \"Ramadani\"\n",
        "Nim = 11170910000001\n",
        "print(\"Nama =\",Nama,\"\\n\",\"Nim =\", Nim, \"\\n\")\n",
        "\n",
        "print(\"Hello World!\")"
      ],
      "execution_count": 14,
      "outputs": [
        {
          "output_type": "stream",
          "text": [
            "Nama = Ramadani \n",
            " Nim = 11170910000001 \n",
            "\n",
            "Hello World!\n"
          ],
          "name": "stdout"
        }
      ]
    },
    {
      "cell_type": "code",
      "metadata": {
        "id": "1S2SlRunuW5K",
        "cellView": "form",
        "outputId": "320d17b0-9c2f-431e-de08-7bae7de6839f",
        "colab": {
          "base_uri": "https://localhost:8080/",
          "height": 153
        }
      },
      "source": [
        "#@title John Travolta\n",
        "\n",
        "\n",
        "print ('Program Gaji John Travolta' '\\n')\n",
        "jam = int(input('Masukkan Jam Kerja Anda : '))\n",
        "print ('Jam Kerja Anda adalah : ' + str(jam))\n",
        "\n",
        "if 0 <= jam <= 40:\n",
        "    gaji = jam * 15000\n",
        "    print ('Gaji Anda adalah : ' + str(gaji))\n",
        "else:\n",
        "    lebih = (jam - 40)\n",
        "    gaji1 = lebih * 15000 * 1.5\n",
        "    gaji2 = 40 * 15000\n",
        "    gaji = gaji1 + gaji2\n",
        "    print ('Gaji Anda adalah : ', int(gaji)) \n",
        "\n",
        "pengeluaran = int(input('Masukkan Jumlah Pengeluaran Anda : '))\n",
        "print ('Jumlah Pengeluaran Anda adalah :', int(pengeluaran))\n",
        "\n",
        "if pengeluaran == gaji:\n",
        "    print('Tidak Bisa Menabung')\n",
        "elif pengeluaran > gaji:\n",
        "    print('Cari Tambahan Pemasukan Lagi')\n",
        "else:\n",
        "    nabung = gaji - pengeluaran\n",
        "    print('Anda Bisa Menabung Sejumlah :', int(nabung))"
      ],
      "execution_count": 11,
      "outputs": [
        {
          "output_type": "stream",
          "text": [
            "Program Gaji John Travolta\n",
            "\n",
            "Masukkan Jam Kerja Anda : 65\n",
            "Jam Kerja Anda adalah : 65\n",
            "Gaji Anda adalah :  1162500\n",
            "Masukkan Jumlah Pengeluaran Anda : 70000\n",
            "Jumlah Pengeluaran Anda adalah : 70000\n",
            "Anda Bisa Menabung Sejumlah : 1092500\n"
          ],
          "name": "stdout"
        }
      ]
    },
    {
      "cell_type": "code",
      "metadata": {
        "id": "OSEcRvGANY97",
        "cellView": "both",
        "outputId": "00f878bd-ad93-481b-b6cd-e9c88a8947ca",
        "colab": {
          "base_uri": "https://localhost:8080/",
          "height": 367
        }
      },
      "source": [
        "#@title Block Chiper\n",
        "\n",
        "\n",
        "# Example of block cipher usage with the pycrypto library. Ignore the warning about libgmp\n",
        "from sage import *\n",
        "from Crypto.Cipher import AES\n",
        "from Crypto import Random\n",
        "import binascii\n",
        "\n",
        "def createKey(string):\n",
        "    string = str(string)\n",
        "    if len(string) > 16:\n",
        "        return string[0:16]\n",
        "    else:\n",
        "        return string + '0'*(16 - len(string))\n",
        "    \n",
        "\n",
        "key = createKey(\"password\")\n",
        "IV = '0123456789abcdef'\n",
        "\n",
        "AEScipher = AES.new(key, AES.MODE_CFB, IV)\n",
        "\n",
        "#Credit for this universal truth goes to Neal Stephenson - Cryptonomicon\n",
        "message = \"\"\"This made him a grad student, and grad students existed not to learn things\n",
        "but to relieve the tenured faculty members of tiresome burdens such as educating people and doing research.\"\"\"\n",
        "\n",
        "c = IV + AEScipher.encrypt(message)\n",
        "\n",
        "print (\"Original message: \", message,\"\\n\")\n",
        "print (\"Original bytes:   \",binascii.hexlify(message),\"\\n\")\n",
        "print (\"Ciphertext bytes: \",binascii.hexlify(c[16:]),\"\\n\")\n",
        "\n",
        "decryptor = AES.new(key, AES.MODE_CFB, IV)\n",
        "decryptedMessage = AEScipher.decrypt(c)\n",
        "\n",
        "print (\"Original IV        : \", IV, \"\\n\")\n",
        "print (\"Extracted IV from c: \", c[0:16], \"\\n\")\n",
        "\n",
        "\n",
        "\n",
        "#Note the IV is prepended to encryptions, so we select from 16 bytes onwards.\n",
        "print (\"Decrypted message: \",decryptedMessage[16:],\"\\n\")\n",
        "\n"
      ],
      "execution_count": 36,
      "outputs": [
        {
          "output_type": "error",
          "ename": "ModuleNotFoundError",
          "evalue": "ignored",
          "traceback": [
            "\u001b[0;31m---------------------------------------------------------------------------\u001b[0m",
            "\u001b[0;31mModuleNotFoundError\u001b[0m                       Traceback (most recent call last)",
            "\u001b[0;32m<ipython-input-36-519d632ab301>\u001b[0m in \u001b[0;36m<module>\u001b[0;34m()\u001b[0m\n\u001b[1;32m      3\u001b[0m \u001b[0;34m\u001b[0m\u001b[0m\n\u001b[1;32m      4\u001b[0m \u001b[0;31m# Example of block cipher usage with the pycrypto library. Ignore the warning about libgmp\u001b[0m\u001b[0;34m\u001b[0m\u001b[0;34m\u001b[0m\u001b[0;34m\u001b[0m\u001b[0m\n\u001b[0;32m----> 5\u001b[0;31m \u001b[0;32mfrom\u001b[0m \u001b[0msage\u001b[0m \u001b[0;32mimport\u001b[0m \u001b[0;34m*\u001b[0m\u001b[0;34m\u001b[0m\u001b[0;34m\u001b[0m\u001b[0m\n\u001b[0m\u001b[1;32m      6\u001b[0m \u001b[0;32mfrom\u001b[0m \u001b[0mCrypto\u001b[0m\u001b[0;34m.\u001b[0m\u001b[0mCipher\u001b[0m \u001b[0;32mimport\u001b[0m \u001b[0mAES\u001b[0m\u001b[0;34m\u001b[0m\u001b[0;34m\u001b[0m\u001b[0m\n\u001b[1;32m      7\u001b[0m \u001b[0;32mfrom\u001b[0m \u001b[0mCrypto\u001b[0m \u001b[0;32mimport\u001b[0m \u001b[0mRandom\u001b[0m\u001b[0;34m\u001b[0m\u001b[0;34m\u001b[0m\u001b[0m\n",
            "\u001b[0;31mModuleNotFoundError\u001b[0m: No module named 'sage'",
            "",
            "\u001b[0;31m---------------------------------------------------------------------------\u001b[0;32m\nNOTE: If your import is failing due to a missing package, you can\nmanually install dependencies using either !pip or !apt.\n\nTo view examples of installing some common dependencies, click the\n\"Open Examples\" button below.\n\u001b[0;31m---------------------------------------------------------------------------\u001b[0m\n"
          ]
        }
      ]
    }
  ]
}