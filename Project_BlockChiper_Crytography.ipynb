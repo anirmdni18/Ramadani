{
  "nbformat": 4,
  "nbformat_minor": 0,
  "metadata": {
    "colab": {
      "name": "Project_BlockChiper_Crytography.ipynb",
      "provenance": [],
      "collapsed_sections": [],
      "authorship_tag": "ABX9TyPRRZ5Dp6VYR2pFFT6GBYUJ",
      "include_colab_link": true
    },
    "kernelspec": {
      "name": "python3",
      "display_name": "Python 3"
    }
  },
  "cells": [
    {
      "cell_type": "markdown",
      "metadata": {
        "id": "view-in-github",
        "colab_type": "text"
      },
      "source": [
        "<a href=\"https://colab.research.google.com/github/anirmdni18/Ramadani/blob/master/Project_BlockChiper_Crytography.ipynb\" target=\"_parent\"><img src=\"https://colab.research.google.com/assets/colab-badge.svg\" alt=\"Open In Colab\"/></a>"
      ]
    },
    {
      "cell_type": "code",
      "metadata": {
        "id": "U2QZS-1G2wr9",
        "outputId": "42162811-d9f3-4f54-d77f-a1dcb2078322",
        "colab": {
          "base_uri": "https://localhost:8080/",
          "height": 129
        }
      },
      "source": [
        "#@title Block Chiper\n",
        "\n",
        "# Example of block cipher usage with the pycrypto library. Ignore the warning about libgmp\n",
        "\n",
        "!pip install sage\n",
        "!pip install Crypto\n",
        "!pip install AEScipher\n",
        "!pip install Crypto.chiper\n",
        "\n",
        "from sage import *\n",
        "from Crypto.cipher import AES\n",
        "from Crypto import Random\n",
        "import binascii\n",
        "\n",
        "def createKey(string):\n",
        "    string = str(string)\n",
        "    if len(string) > 16:\n",
        "        return string[0:16]\n",
        "    else:\n",
        "        return string + '0'*(16 - len(string))\n",
        "    \n",
        "\n",
        "key = createKey(\"password\")\n",
        "IV = '0123456789abcdef'\n",
        "\n",
        "AEScipher = AES.new(key, AES.MODE_CFB, IV)\n",
        "\n",
        "#Credit for this universal truth goes to Neal Stephenson - Cryptonomicon\n",
        "message = \"\"\"This made him a grad student, and grad students existed not to learn things\n",
        "but to relieve the tenured faculty members of tiresome burdens such as educating people and doing research.\"\"\"\n",
        "\n",
        "c = IV + AEScipher.encrypt(message)\n",
        "\n",
        "print (\"Original message: \", message,\"\\n\")\n",
        "print (\"Original bytes:   \",binascii.hexlify(message),\"\\n\")\n",
        "print (\"Ciphertext bytes: \",binascii.hexlify(c[16:]),\"\\n\")\n",
        "\n",
        "decryptor = AES.new(key, AES.MODE_CFB, IV)\n",
        "decryptedMessage = AEScipher.decrypt(c)\n",
        "\n",
        "print (\"Original IV        : \", IV, \"\\n\")\n",
        "print (\"Extracted IV from c: \", c[0:16], \"\\n\")\n",
        "\n",
        "\n",
        "\n",
        "#Note the IV is prepended to encryptions, so we select from 16 bytes onwards.\n",
        "print (\"Decrypted message: \",decryptedMessage[16:],\"\\n\")\n",
        "\n",
        "\n"
      ],
      "execution_count": 2,
      "outputs": [
        {
          "output_type": "error",
          "ename": "SyntaxError",
          "evalue": "ignored",
          "traceback": [
            "\u001b[0;36m  File \u001b[0;32m\"<ipython-input-2-496341ca8de5>\"\u001b[0;36m, line \u001b[0;32m39\u001b[0m\n\u001b[0;31m    if mode <> MODE_XTS:\u001b[0m\n\u001b[0m             ^\u001b[0m\n\u001b[0;31mSyntaxError\u001b[0m\u001b[0;31m:\u001b[0m invalid syntax\n"
          ]
        }
      ]
    }
  ]
}