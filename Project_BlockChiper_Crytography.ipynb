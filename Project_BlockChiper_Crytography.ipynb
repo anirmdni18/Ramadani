{
  "nbformat": 4,
  "nbformat_minor": 0,
  "metadata": {
    "colab": {
      "name": "Project_BlockChiper_Crytography.ipynb",
      "provenance": [],
      "collapsed_sections": [],
      "authorship_tag": "ABX9TyPRRZ5Dp6VYR2pFFT6GBYUJ",
      "include_colab_link": true
    },
    "kernelspec": {
      "name": "python3",
      "display_name": "Python 3"
    }
  },
  "cells": [
    {
      "cell_type": "markdown",
      "metadata": {
        "id": "view-in-github",
        "colab_type": "text"
      },
      "source": [
        "<a href=\"https://colab.research.google.com/github/anirmdni18/Ramadani/blob/master/Project_BlockChiper_Crytography.ipynb\" target=\"_parent\"><img src=\"https://colab.research.google.com/assets/colab-badge.svg\" alt=\"Open In Colab\"/></a>"
      ]
    },
    {
      "cell_type": "code",
      "metadata": {
        "id": "U2QZS-1G2wr9",
        "outputId": "808f9f10-8e0d-44e8-c323-c06798938e57",
        "colab": {
          "base_uri": "https://localhost:8080/",
          "height": 605
        }
      },
      "source": [
        "#@title Block Chiper\n",
        "\n",
        "# Example of block cipher usage with the pycrypto library. Ignore the warning about libgmp\n",
        "\n",
        "!pip install sage\n",
        "!pip install Crypto\n",
        "!pip install AEScipher\n",
        "!pip install Crypto.chiper\n",
        "\n",
        "from sage import *\n",
        "from Crypto.cipher import AES\n",
        "from Crypto import Random\n",
        "import binascii\n",
        "\n",
        "def createKey(string):\n",
        "    string = str(string)\n",
        "    if len(string) > 16:\n",
        "        return string[0:16]\n",
        "    else:\n",
        "        return string + '0'*(16 - len(string))\n",
        "    \n",
        "\n",
        "key = createKey(\"password\")\n",
        "IV = '0123456789abcdef'\n",
        "\n",
        "AEScipher = AES.new(key, AES.MODE_CFB, IV)\n",
        "\n",
        "#Credit for this universal truth goes to Neal Stephenson - Cryptonomicon\n",
        "message = \"\"\"This made him a grad student, and grad students existed not to learn things\n",
        "but to relieve the tenured faculty members of tiresome burdens such as educating people and doing research.\"\"\"\n",
        "\n",
        "c = IV + AEScipher.encrypt(message)\n",
        "\n",
        "print (\"Original message: \", message,\"\\n\")\n",
        "print (\"Original bytes:   \",binascii.hexlify(message),\"\\n\")\n",
        "print (\"Ciphertext bytes: \",binascii.hexlify(c[16:]),\"\\n\")\n",
        "\n",
        "decryptor = AES.new(key, AES.MODE_CFB, IV)\n",
        "decryptedMessage = AEScipher.decrypt(c)\n",
        "\n",
        "print (\"Original IV        : \", IV, \"\\n\")\n",
        "print (\"Extracted IV from c: \", c[0:16], \"\\n\")\n",
        "\n",
        "\n",
        "\n",
        "#Note the IV is prepended to encryptions, so we select from 16 bytes onwards.\n",
        "print (\"Decrypted message: \",decryptedMessage[16:],\"\\n\")\n",
        "\n",
        "\n"
      ],
      "execution_count": 3,
      "outputs": [
        {
          "output_type": "stream",
          "text": [
            "Requirement already satisfied: sage in /usr/local/lib/python3.6/dist-packages (0.0.0)\n",
            "Requirement already satisfied: Crypto in /usr/local/lib/python3.6/dist-packages (1.4.1)\n",
            "Requirement already satisfied: shellescape in /usr/local/lib/python3.6/dist-packages (from Crypto) (3.8.1)\n",
            "Requirement already satisfied: Naked in /usr/local/lib/python3.6/dist-packages (from Crypto) (0.1.31)\n",
            "Requirement already satisfied: requests in /usr/local/lib/python3.6/dist-packages (from Naked->Crypto) (2.23.0)\n",
            "Requirement already satisfied: pyyaml in /usr/local/lib/python3.6/dist-packages (from Naked->Crypto) (3.13)\n",
            "Requirement already satisfied: urllib3!=1.25.0,!=1.25.1,<1.26,>=1.21.1 in /usr/local/lib/python3.6/dist-packages (from requests->Naked->Crypto) (1.24.3)\n",
            "Requirement already satisfied: certifi>=2017.4.17 in /usr/local/lib/python3.6/dist-packages (from requests->Naked->Crypto) (2020.6.20)\n",
            "Requirement already satisfied: idna<3,>=2.5 in /usr/local/lib/python3.6/dist-packages (from requests->Naked->Crypto) (2.10)\n",
            "Requirement already satisfied: chardet<4,>=3.0.2 in /usr/local/lib/python3.6/dist-packages (from requests->Naked->Crypto) (3.0.4)\n",
            "\u001b[31mERROR: Could not find a version that satisfies the requirement AEScipher (from versions: none)\u001b[0m\n",
            "\u001b[31mERROR: No matching distribution found for AEScipher\u001b[0m\n",
            "\u001b[31mERROR: Could not find a version that satisfies the requirement Crypto.chiper (from versions: none)\u001b[0m\n",
            "\u001b[31mERROR: No matching distribution found for Crypto.chiper\u001b[0m\n"
          ],
          "name": "stdout"
        },
        {
          "output_type": "error",
          "ename": "ModuleNotFoundError",
          "evalue": "ignored",
          "traceback": [
            "\u001b[0;31m---------------------------------------------------------------------------\u001b[0m",
            "\u001b[0;31mModuleNotFoundError\u001b[0m                       Traceback (most recent call last)",
            "\u001b[0;32m<ipython-input-3-a7fe1e07f09e>\u001b[0m in \u001b[0;36m<module>\u001b[0;34m()\u001b[0m\n\u001b[1;32m      9\u001b[0m \u001b[0;34m\u001b[0m\u001b[0m\n\u001b[1;32m     10\u001b[0m \u001b[0;32mfrom\u001b[0m \u001b[0msage\u001b[0m \u001b[0;32mimport\u001b[0m \u001b[0;34m*\u001b[0m\u001b[0;34m\u001b[0m\u001b[0;34m\u001b[0m\u001b[0m\n\u001b[0;32m---> 11\u001b[0;31m \u001b[0;32mfrom\u001b[0m \u001b[0mCrypto\u001b[0m\u001b[0;34m.\u001b[0m\u001b[0mcipher\u001b[0m \u001b[0;32mimport\u001b[0m \u001b[0mAES\u001b[0m\u001b[0;34m\u001b[0m\u001b[0;34m\u001b[0m\u001b[0m\n\u001b[0m\u001b[1;32m     12\u001b[0m \u001b[0;32mfrom\u001b[0m \u001b[0mCrypto\u001b[0m \u001b[0;32mimport\u001b[0m \u001b[0mRandom\u001b[0m\u001b[0;34m\u001b[0m\u001b[0;34m\u001b[0m\u001b[0m\n\u001b[1;32m     13\u001b[0m \u001b[0;32mimport\u001b[0m \u001b[0mbinascii\u001b[0m\u001b[0;34m\u001b[0m\u001b[0;34m\u001b[0m\u001b[0m\n",
            "\u001b[0;31mModuleNotFoundError\u001b[0m: No module named 'Crypto'",
            "",
            "\u001b[0;31m---------------------------------------------------------------------------\u001b[0;32m\nNOTE: If your import is failing due to a missing package, you can\nmanually install dependencies using either !pip or !apt.\n\nTo view examples of installing some common dependencies, click the\n\"Open Examples\" button below.\n\u001b[0;31m---------------------------------------------------------------------------\u001b[0m\n"
          ]
        }
      ]
    }
  ]
}